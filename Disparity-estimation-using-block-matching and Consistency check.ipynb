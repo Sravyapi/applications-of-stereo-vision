{
 "cells": [
  {
   "cell_type": "code",
   "execution_count": 1,
   "metadata": {},
   "outputs": [
    {
     "data": {
      "text/plain": [
       "'Report the estimated disparity map and the calculated MSE with respect to the given ground truth disparity maps'"
      ]
     },
     "execution_count": 1,
     "metadata": {},
     "output_type": "execute_result"
    }
   ],
   "source": [
    "\"\"\"Report the estimated disparity map and the calculated MSE with respect to the given ground truth disparity maps\"\"\"\n",
    "\n",
    "#leftDisparity_MSE_3 47.9622263732\n",
    "#rightDisparity_MSE_3 46.7877765454\n",
    "#leftDisparity_MSE_9 36.5163504757\n",
    "#rightDisparity_MSE_9 35.7310431382\n"
   ]
  },
  {
   "cell_type": "code",
   "execution_count": 2,
   "metadata": {},
   "outputs": [],
   "source": [
    "import os\n",
    "os.chdir('/Users/sp/Desktop/CVIP/PA2Data')\n",
    "import cv2\n",
    "import numpy as np\n",
    "\n",
    "left_image = cv2.imread('view1.png', 0)\n",
    "right_image = cv2.imread('view5.png', 0)\n",
    "ground_truth_left_image = cv2.imread('disp1.png', 0)\n",
    "ground_truth_right_image = cv2.imread('disp5.png', 0)\n",
    "width, height = left_image.shape[:2]\n",
    "leftDisparityMap = np.zeros([width,height], np.uint8)\n",
    "rightDisparityMap = np.zeros([width,height], np.uint8)\n",
    "max_disparity = 74"
   ]
  },
  {
   "cell_type": "code",
   "execution_count": 3,
   "metadata": {},
   "outputs": [],
   "source": [
    "def leftDisparity(pad):\n",
    "    paddedImage_left = cv2.copyMakeBorder(left_image, pad, pad,pad,pad,cv2.BORDER_CONSTANT, value= 0)\n",
    "    paddedImage_right = cv2.copyMakeBorder(right_image,pad,pad,pad,pad,cv2.BORDER_CONSTANT, value=0)\n",
    "    for i in range(pad,width - pad):\n",
    "        for j in range(pad, height - pad):\n",
    "            left_slice = paddedImage_left[i - pad: i+pad+1 , j - pad: j+pad+1]\n",
    "            reset = pad-1\n",
    "            match_index = 0\n",
    "            min_ssd = np.iinfo.max    \n",
    "            if(j > max_disparity+pad-1):\n",
    "                reset = j - max_disparity #(current_left_pixel - disparity) to avoid overflow\n",
    "            for k in range(j, reset, -1):\n",
    "                right_slice = paddedImage_right[i - pad: i + pad+1, k - pad:k + pad + 1]\n",
    "                current_ssd = np.sum(np.square(left_slice - right_slice))\n",
    "                if((k == j) or (current_ssd < min_ssd)):\n",
    "                    min_ssd = current_ssd\n",
    "                    match_index = k #match_index represents best matching pixel in right image\n",
    "            leftDisparityMap[i - pad, j - pad] = j - match_index #disparity\n",
    "    mse = np.mean((leftDisparityMap - ground_truth_left_image)**2)\n",
    "    print(\"leftDisparity_MSE_\" +str(pad*2+1)+\"_win=\"+ str(mse))\n",
    "    cv2.imwrite(str(pad*2+1)+\"_win_\" + \"left_disp.png\", leftDisparityMap) \n",
    "    return leftDisparityMap"
   ]
  },
  {
   "cell_type": "code",
   "execution_count": 4,
   "metadata": {},
   "outputs": [
    {
     "name": "stdout",
     "output_type": "stream",
     "text": [
      "leftDisparity_MSE_3_win=47.9622263732\n"
     ]
    }
   ],
   "source": [
    "leftDisparity_3win = leftDisparity(1)"
   ]
  },
  {
   "cell_type": "code",
   "execution_count": 5,
   "metadata": {},
   "outputs": [
    {
     "name": "stdout",
     "output_type": "stream",
     "text": [
      "leftDisparity_MSE_9_win=35.1475920845\n"
     ]
    }
   ],
   "source": [
    "leftDisparity_9win = leftDisparity(4)"
   ]
  },
  {
   "cell_type": "code",
   "execution_count": 17,
   "metadata": {},
   "outputs": [],
   "source": [
    "\"\"\"Disparity Computation for Right Image with 3X3 window\"\"\"\n",
    "def rightDisparity(pad):\n",
    "    paddedImage_left = cv2.copyMakeBorder(left_image, pad, pad,pad,pad,cv2.BORDER_CONSTANT, value= 0)\n",
    "    paddedImage_right = cv2.copyMakeBorder(right_image,pad,pad,pad,pad,cv2.BORDER_CONSTANT, value=0)\n",
    "    for i in range(pad, width + pad):\n",
    "        for j in range(pad, height + pad):\n",
    "            right_slice = paddedImage_right[i - pad:i + pad+1, j -pad :j + pad +1]\n",
    "            reset = j + max_disparity\n",
    "            match_index = 0\n",
    "            min_ssd = np.iinfo.max \n",
    "            if(reset > height):\n",
    "                reset = height \n",
    "            for k in range(j, reset):\n",
    "                left_slice = paddedImage_left[i - pad: i + pad + 1, k - pad:k + pad +1]\n",
    "                current_ssd = np.sum(np.square(right_slice - left_slice))\n",
    "                if((k == j) or (current_ssd < min_ssd)):\n",
    "                    min_ssd = current_ssd\n",
    "                    match_index = k #match_index represents best matching pixel in right image\n",
    "            rightDisparityMap[i - pad, j - pad] = match_index - j\n",
    "    mse = np.mean((rightDisparityMap - ground_truth_right_image)**2)\n",
    "    print(\"rightDisparity_MSE_\" +str(pad*2+1)+\"_win=\"+ str(mse))\n",
    "    cv2.imwrite(str(pad*2+1)+\"_win_\"+\"right_disp.png\", rightDisparityMap)\n",
    "    return rightDisparityMap"
   ]
  },
  {
   "cell_type": "code",
   "execution_count": 18,
   "metadata": {},
   "outputs": [
    {
     "name": "stdout",
     "output_type": "stream",
     "text": [
      "rightDisparity_MSE_9_win=34.0928550581\n"
     ]
    }
   ],
   "source": [
    "rightDisparity_9win = rightDisparity(4)"
   ]
  },
  {
   "cell_type": "code",
   "execution_count": 20,
   "metadata": {},
   "outputs": [
    {
     "name": "stdout",
     "output_type": "stream",
     "text": [
      "rightDisparity_MSE_3_win=46.4708598447\n"
     ]
    }
   ],
   "source": [
    "rightDisparity_3win = rightDisparity(1)"
   ]
  },
  {
   "cell_type": "code",
   "execution_count": 9,
   "metadata": {},
   "outputs": [],
   "source": [
    "#Consistency check"
   ]
  },
  {
   "cell_type": "code",
   "execution_count": 10,
   "metadata": {},
   "outputs": [],
   "source": [
    "def MSE(consistent_win,ground_truth_image):  \n",
    "    square_error = np.zeros([width, height], np.uint8)\n",
    "    error = 0\n",
    "    count = 0\n",
    "    #calculate mse for consistent pixels\n",
    "    for i in range(width):\n",
    "        for j in range(height):\n",
    "            if(consistent_win[i][j] != 0):\n",
    "                square_error[i][j] = (consistent_win[i][j] - ground_truth_image[i][j])**2\n",
    "                error += square_error[i][j]\n",
    "                count += 1\n",
    "    mse = error /count\n",
    "    return mse"
   ]
  },
  {
   "cell_type": "code",
   "execution_count": 11,
   "metadata": {},
   "outputs": [
    {
     "name": "stderr",
     "output_type": "stream",
     "text": [
      "/Users/sp/anaconda3/lib/python3.6/site-packages/ipykernel_launcher.py:9: RuntimeWarning: overflow encountered in ubyte_scalars\n",
      "  if __name__ == '__main__':\n"
     ]
    },
    {
     "name": "stdout",
     "output_type": "stream",
     "text": [
      "consistent_left_3_win_mse = 6.93845757438\n",
      "consistent_left_9_win_mse = 7.31207572055\n"
     ]
    },
    {
     "data": {
      "text/plain": [
       "True"
      ]
     },
     "execution_count": 11,
     "metadata": {},
     "output_type": "execute_result"
    }
   ],
   "source": [
    "#3*3 left \n",
    "\n",
    "consistent_left_3_win = np.zeros([width,height], np.uint8)\n",
    "\n",
    "#Compare disparity values\n",
    "for i in range(0,width):\n",
    "    for j in range(0,height):\n",
    "        p=leftDisparity_3win[i][j]\n",
    "        q=rightDisparity_3win[i][j]\n",
    "        if(j - q >= 0 and p == rightDisparity_3win[i][j - p]):\n",
    "            consistent_left_3_win[i][j] = p\n",
    "mse = MSE(consistent_left_3_win,ground_truth_left_image)\n",
    "print(\"consistent_left_3_win_mse = \" + str(mse))\n",
    "cv2.imwrite(\"consistent_left_3_win.png\", consistent_left_3_win)\n",
    "\n",
    "#9*9 left\n",
    "consistent_left_9_win = np.zeros([width,height], np.uint8)\n",
    "\n",
    "#form the consistent left disparity matrix by comparing the disparity values\n",
    "for i in range(width):\n",
    "    for j in range(height):\n",
    "        p=leftDisparity_9win[i][j]\n",
    "        q=rightDisparity_9win[i][j]\n",
    "        if(j - p >= 0 and p == rightDisparity_9win[i][j - p]):\n",
    "            consistent_left_9_win[i][j] = p\n",
    "\n",
    "mse= MSE(consistent_left_9_win,ground_truth_left_image)\n",
    "print(\"consistent_left_9_win_mse = \" + str(mse))\n",
    "cv2.imwrite(\"consistent_left_9_win.png\", consistent_left_9_win)\n"
   ]
  },
  {
   "cell_type": "code",
   "execution_count": 21,
   "metadata": {},
   "outputs": [
    {
     "name": "stderr",
     "output_type": "stream",
     "text": [
      "/Users/sp/anaconda3/lib/python3.6/site-packages/ipykernel_launcher.py:9: RuntimeWarning: overflow encountered in ubyte_scalars\n",
      "  if __name__ == '__main__':\n"
     ]
    },
    {
     "name": "stdout",
     "output_type": "stream",
     "text": [
      "consistent_right_3_win_mse = 7.51090034524\n",
      "consistent_right_9_win_mse = 7.51090034524\n"
     ]
    },
    {
     "data": {
      "text/plain": [
       "True"
      ]
     },
     "execution_count": 21,
     "metadata": {},
     "output_type": "execute_result"
    }
   ],
   "source": [
    "#3*3 right\n",
    "consistent_right_3_win = np.zeros([width,height], np.uint8)\n",
    "\n",
    "#form the consistent right disparity matrix by comparing the disparity values\n",
    "for i in range(0,width):\n",
    "    for j in range(0,height):\n",
    "        q=rightDisparity_3win[i][j]\n",
    "        if(j + q < height and q == leftDisparity_3win[i][j + q]):\n",
    "            consistent_right_3_win[i][j] = q\n",
    "mse= MSE(consistent_right_3_win,ground_truth_right_image)\n",
    "print(\"consistent_right_3_win_mse = \" + str(mse))\n",
    "cv2.imwrite(\"consistent_right_3_win.png\", consistent_right_3_win)\n",
    "\n",
    "#9*9 right\n",
    "consistent_right_9_win = np.zeros([width,height], np.uint8)\n",
    "for i in range(0,width):\n",
    "    for j in range(0,height):\n",
    "        q=rightDisparity_9win[i][j]\n",
    "        if(j + q < height and q == leftDisparity_9win[i][j + q]):\n",
    "            consistent_right_9_win[i][j] = q\n",
    "mse2=MSE(consistent_right_9_win,ground_truth_right_image)\n",
    "print(\"consistent_right_9_win_mse = \" + str(mse2))\n",
    "cv2.imwrite(\"consistent_right_9_win.png\", consistent_right_9_win)"
   ]
  },
  {
   "cell_type": "code",
   "execution_count": 13,
   "metadata": {},
   "outputs": [
    {
     "data": {
      "text/plain": [
       "array([[32, 32, 31, ...,  1,  0,  0],\n",
       "       [32, 28, 27, ...,  0,  0,  0],\n",
       "       [28, 25, 24, ...,  0,  0,  0],\n",
       "       ..., \n",
       "       [67, 73, 73, ...,  0,  0,  0],\n",
       "       [ 0,  0,  0, ...,  0,  0,  0],\n",
       "       [ 0,  0,  0, ...,  0,  0,  0]], dtype=uint8)"
      ]
     },
     "execution_count": 13,
     "metadata": {},
     "output_type": "execute_result"
    }
   ],
   "source": [
    "rightDisparity_3win\n"
   ]
  },
  {
   "cell_type": "code",
   "execution_count": 16,
   "metadata": {},
   "outputs": [
    {
     "data": {
      "text/plain": [
       "array([0, 0, 0, 0, 0, 0, 0, 0, 0, 0, 0, 0, 0, 0, 0, 0, 0, 0, 0, 0, 0, 0, 0,\n",
       "       0, 0, 0, 0, 0, 0, 0, 0, 0, 0, 0, 0, 0, 0, 0, 0, 0, 0, 0, 0, 0, 0, 0,\n",
       "       0, 0, 0, 0, 0, 0, 0, 0, 0, 0, 0, 0, 0, 0, 0, 0, 0, 0, 0, 0, 0, 0, 0,\n",
       "       0, 0, 0, 0, 0, 0, 0, 0, 0, 0, 0, 0, 0, 0, 0, 0, 0, 0, 0, 0, 0, 0, 0,\n",
       "       0, 0, 0, 0, 0, 0, 0, 0, 0, 0, 0, 0, 0, 0, 0, 0, 0, 0, 0, 0, 0, 0, 0,\n",
       "       0, 0, 0, 0, 0, 0, 0, 0, 0, 0, 0, 0, 0, 0, 0, 0, 0, 0, 0, 0, 0, 0, 0,\n",
       "       0, 0, 0, 0, 0, 0, 0, 0, 0, 0, 0, 0, 0, 0, 0, 0, 0, 0, 0, 0, 0, 0, 0,\n",
       "       0, 0, 0, 0, 0, 0, 0, 0, 0, 0, 0, 0, 0, 0, 0, 0, 0, 0, 0, 0, 0, 0, 0,\n",
       "       0, 0, 0, 0, 0, 0, 0, 0, 0, 0, 0, 0, 0, 0, 0, 0, 0, 0, 0, 0, 0, 0, 0,\n",
       "       0, 0, 0, 0, 0, 0, 0, 0, 0, 0, 0, 0, 0, 0, 0, 0, 0, 0, 0, 0, 0, 0, 0,\n",
       "       0, 0, 0, 0, 0, 0, 0, 0, 0, 0, 0, 0, 0, 0, 0, 0, 0, 0, 0, 0, 0, 0, 0,\n",
       "       0, 0, 0, 0, 0, 0, 0, 0, 0, 0, 0, 0, 0, 0, 0, 0, 0, 0, 0, 0, 0, 0, 0,\n",
       "       0, 0, 0, 0, 0, 0, 0, 0, 0, 0, 0, 0, 0, 0, 0, 0, 0, 0, 0, 0, 0, 0, 0,\n",
       "       0, 0, 0, 0, 0, 0, 0, 0, 0, 0, 0, 0, 0, 0, 0, 0, 0, 0, 0, 0, 0, 0, 0,\n",
       "       0, 0, 0, 0, 0, 0, 0, 0, 0, 0, 0, 0, 0, 0, 0, 0, 0, 0, 0, 0, 0, 0, 0,\n",
       "       0, 0, 0, 0, 0, 0, 0, 0, 0, 0, 0, 0, 0, 0, 0, 0, 0, 0, 0, 0, 0, 0, 0,\n",
       "       0, 0, 0, 0, 0, 0, 0, 0, 0, 0, 0, 0, 0, 0, 0, 0, 0, 0, 0, 0, 0, 0, 0,\n",
       "       0, 0, 0, 0, 0, 0, 0, 0, 0, 0, 0, 0, 0, 0, 0, 0, 0, 0, 0, 0, 0, 0, 0,\n",
       "       0, 0, 0, 0, 0, 0, 0, 0, 0, 0, 0, 0, 0, 0, 0, 0, 0, 0, 0, 0, 0, 0, 0,\n",
       "       0, 0, 0, 0, 0, 0, 0, 0, 0, 0, 0, 0, 0, 0, 0, 0, 0, 0, 0, 0, 0, 0, 0,\n",
       "       0, 0, 0], dtype=uint8)"
      ]
     },
     "execution_count": 16,
     "metadata": {},
     "output_type": "execute_result"
    }
   ],
   "source": [
    "sum(rightDisparity_9win-rightDisparity_3win)"
   ]
  },
  {
   "cell_type": "code",
   "execution_count": null,
   "metadata": {},
   "outputs": [],
   "source": []
  }
 ],
 "metadata": {
  "kernelspec": {
   "display_name": "Python 3",
   "language": "python",
   "name": "python3"
  },
  "language_info": {
   "codemirror_mode": {
    "name": "ipython",
    "version": 3
   },
   "file_extension": ".py",
   "mimetype": "text/x-python",
   "name": "python",
   "nbconvert_exporter": "python",
   "pygments_lexer": "ipython3",
   "version": "3.6.5"
  }
 },
 "nbformat": 4,
 "nbformat_minor": 2
}
