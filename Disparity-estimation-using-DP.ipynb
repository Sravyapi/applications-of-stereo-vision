{
 "cells": [
  {
   "cell_type": "code",
   "execution_count": 12,
   "metadata": {},
   "outputs": [],
   "source": [
    "import os\n",
    "os.chdir('/Users/sp/Desktop/CVIP/PA2Data')\n",
    "import cv2\n",
    "import numpy as np\n",
    "\n",
    "left_image = cv2.imread('view1.png', 0)  #read it as a grayscale image\n",
    "right_image= cv2.imread('view5.png', 0)\n",
    "\n",
    "numrows,numcols= left_image.shape[:2]\n",
    "\n",
    "OcclusionCost = 20 \n",
    "\n",
    "C = np.zeros([numcols,numcols])\n",
    "D = np.zeros([numcols,numcols]) \n",
    "            \n",
    "\n",
    "leftDisparity=np.zeros(left_image.shape, np.uint8)\n",
    "rightDisparity=np.zeros(right_image.shape, np.uint8)"
   ]
  },
  {
   "cell_type": "code",
   "execution_count": 13,
   "metadata": {},
   "outputs": [
    {
     "name": "stderr",
     "output_type": "stream",
     "text": [
      "/Users/sp/anaconda3/lib/python3.6/site-packages/ipykernel_launcher.py:15: RuntimeWarning: overflow encountered in ubyte_scalars\n",
      "  from ipykernel import kernelapp as app\n"
     ]
    },
    {
     "data": {
      "text/plain": [
       "True"
      ]
     },
     "execution_count": 13,
     "metadata": {},
     "output_type": "execute_result"
    }
   ],
   "source": [
    "\n",
    "for i in range (0, numcols):\n",
    "    C[i, 0] = i * OcclusionCost\n",
    "    C[0, i] = i * OcclusionCost\n",
    "\n",
    "# Populating Cost Matrix and DirectionMatrix\n",
    "\n",
    "# Pseudocode from \"A Maximum likelihood Stereo Algorithm\" paper given as reference\n",
    "\n",
    "for row in range(1, numrows):\n",
    "    for i in range (1, numcols):\n",
    "        for j in range(1, numcols):\n",
    "            min1 = C[i - 1, j - 1] + np.abs(left_image[row,i] - right_image[row,j])\n",
    "            min2 = C[i - 1, j] + OcclusionCost\n",
    "            min3 = C[i, j - 1] + OcclusionCost\n",
    "            C[i, j] = cmin= min(min1, min2, min3)\n",
    "            if(min1 == cmin):\n",
    "                D[i, j] = 1\n",
    "            if(min2 == cmin):\n",
    "                D[i, j] = 2\n",
    "            if(min3 == cmin):\n",
    "                D[i, j] = 3\n",
    "\n",
    "    i=numcols - 1\n",
    "    j=numcols - 1\n",
    "    \n",
    "    while(i!=0 and j!=0):\n",
    "        if(D[i, j] == 1.0):\n",
    "            leftDisparity[row, i] = np.abs(i - j)\n",
    "            rightDisparity[row, j] = np.abs(i - j)\n",
    "            i = i - 1\n",
    "            j = j - 1\n",
    "        elif(D[i, j] == 2.0):\n",
    "            i = i - 1\n",
    "        elif(D[i, j] == 3.0):\n",
    "            j = j - 1\n",
    "\n",
    "\n",
    "cv2.imwrite(\"leftDisparity.png\", leftDisparity)\n",
    "cv2.imwrite(\"rightDisparity.png\", rightDisparity)\n",
    "\n"
   ]
  },
  {
   "cell_type": "code",
   "execution_count": null,
   "metadata": {},
   "outputs": [],
   "source": []
  },
  {
   "cell_type": "code",
   "execution_count": null,
   "metadata": {},
   "outputs": [],
   "source": []
  }
 ],
 "metadata": {
  "kernelspec": {
   "display_name": "Python 3",
   "language": "python",
   "name": "python3"
  },
  "language_info": {
   "codemirror_mode": {
    "name": "ipython",
    "version": 3
   },
   "file_extension": ".py",
   "mimetype": "text/x-python",
   "name": "python",
   "nbconvert_exporter": "python",
   "pygments_lexer": "ipython3",
   "version": "3.6.5"
  }
 },
 "nbformat": 4,
 "nbformat_minor": 2
}
