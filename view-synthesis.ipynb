{
 "cells": [
  {
   "cell_type": "code",
   "execution_count": 41,
   "metadata": {},
   "outputs": [],
   "source": [
    "import os\n",
    "os.chdir('/Users/sp/Desktop/CVIP/PA2Data')\n",
    "import cv2\n",
    "import numpy as np\n",
    "\n",
    "#Color images\n",
    "view1 = cv2.imread('view1.png')\n",
    "view5= cv2.imread('view5.png')\n",
    "\n",
    "#grayScale images\n",
    "disp1 = cv2.imread('disp1.png', 0)\n",
    "disp5 = cv2.imread('disp5.png', 0)\n",
    "\n",
    "height, width = view1.shape[:2]\n",
    "\n",
    "view3 = np.zeros((height,width,3), np.uint8)"
   ]
  },
  {
   "cell_type": "code",
   "execution_count": 42,
   "metadata": {},
   "outputs": [
    {
     "name": "stdout",
     "output_type": "stream",
     "text": [
      "view3_initial done!\n"
     ]
    }
   ],
   "source": [
    "\n",
    "for i in range(height):\n",
    "    for j in range(width):\n",
    "        mid_index_1 = int(disp1[i][j] / 2)\n",
    "        k = j - mid_index_1 \n",
    "        if(k>= 0 and disp1[i][j] != 0):\n",
    "            view3[i][k] = view1[i][j]\n",
    "\n",
    "cv2.imwrite(\"view3_initial.png\", view3)\n",
    "print('view3_initial done!')"
   ]
  },
  {
   "cell_type": "code",
   "execution_count": 43,
   "metadata": {},
   "outputs": [
    {
     "name": "stdout",
     "output_type": "stream",
     "text": [
      "view3_final done!\n"
     ]
    }
   ],
   "source": [
    "for i in range(height):\n",
    "    for j in range(width):\n",
    "        mid_index_5 = int(disp5[i][j] / 2)\n",
    "        k= j + mid_index_5\n",
    "        if (k < width):\n",
    "            if(view3[i,k].all() == 0):\n",
    "                view3[i][k] = view5[i][j]\n",
    "        else:\n",
    "            continue\n",
    "cv2.imwrite(\"view3_final.png\", view3)\n",
    "print('view3_final done!')"
   ]
  },
  {
   "cell_type": "code",
   "execution_count": null,
   "metadata": {},
   "outputs": [],
   "source": []
  },
  {
   "cell_type": "code",
   "execution_count": null,
   "metadata": {},
   "outputs": [],
   "source": []
  },
  {
   "cell_type": "code",
   "execution_count": null,
   "metadata": {},
   "outputs": [],
   "source": []
  }
 ],
 "metadata": {
  "kernelspec": {
   "display_name": "Python 3",
   "language": "python",
   "name": "python3"
  },
  "language_info": {
   "codemirror_mode": {
    "name": "ipython",
    "version": 3
   },
   "file_extension": ".py",
   "mimetype": "text/x-python",
   "name": "python",
   "nbconvert_exporter": "python",
   "pygments_lexer": "ipython3",
   "version": "3.6.5"
  }
 },
 "nbformat": 4,
 "nbformat_minor": 2
}
